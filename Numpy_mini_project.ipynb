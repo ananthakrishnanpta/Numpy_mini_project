{
  "nbformat": 4,
  "nbformat_minor": 0,
  "metadata": {
    "colab": {
      "name": "Numpy mini project.ipynb",
      "provenance": [],
      "collapsed_sections": [],
      "mount_file_id": "1rRIIxJKqchvKldAJreqMuVBC64ZYv-Yz",
      "authorship_tag": "ABX9TyNL8BrjRf3VX73O4N3UpIin",
      "include_colab_link": true
    },
    "kernelspec": {
      "name": "python3",
      "display_name": "Python 3"
    },
    "language_info": {
      "name": "python"
    }
  },
  "cells": [
    {
      "cell_type": "markdown",
      "metadata": {
        "id": "view-in-github",
        "colab_type": "text"
      },
      "source": [
        "<a href=\"https://colab.research.google.com/github/ananthakrishnanpta/Numpy_mini_project/blob/main/Numpy_mini_project.ipynb\" target=\"_parent\"><img src=\"https://colab.research.google.com/assets/colab-badge.svg\" alt=\"Open In Colab\"/></a>"
      ]
    },
    {
      "cell_type": "code",
      "source": [
        "#Step 1\n",
        "\n",
        "import numpy as np\n",
        "\n",
        "# Loading File to 'data_file' from google drive\n",
        "from google.colab import drive\n",
        "drive.mount('/content/drive')\n",
        "\n",
        "\n",
        "data_file  = \"/content/drive/My Drive/Colab Notebooks/Data processing/makeSenseOfCensus.csv\"\n",
        "file = open(data_file, 'r')\n",
        "\n",
        "\n",
        "\n",
        "data = np.genfromtxt(data_file,delimiter = \",\",skip_header=1)\n",
        "\n",
        "\n",
        "print(\"\\n Data: \\n \\n\", data)\n",
        "\n",
        "#Printing the type of data\n",
        "\n",
        "print(\"\\n Type of Data: \\n\\n\",type(data))"
      ],
      "metadata": {
        "colab": {
          "base_uri": "https://localhost:8080/"
        },
        "id": "0omH2qq_lNhW",
        "outputId": "72f900f1-be1c-4635-a62a-ea920c65b384"
      },
      "execution_count": 2,
      "outputs": [
        {
          "output_type": "stream",
          "name": "stdout",
          "text": [
            "Drive already mounted at /content/drive; to attempt to forcibly remount, call drive.mount(\"/content/drive\", force_remount=True).\n",
            "\n",
            " Data: \n",
            " \n",
            " [[39. 13.  4. ...  0. 40.  0.]\n",
            " [50. 13.  4. ...  0. 13.  0.]\n",
            " [38.  9.  4. ...  0. 40.  0.]\n",
            " ...\n",
            " [48. 13.  4. ...  0. 58.  1.]\n",
            " [40. 10.  4. ...  0. 40.  0.]\n",
            " [39. 13.  4. ...  0. 50.  1.]]\n",
            "\n",
            " Type of Data: \n",
            "\n",
            " <class 'numpy.ndarray'>\n"
          ]
        }
      ]
    },
    {
      "cell_type": "code",
      "source": [
        "#Step 2 Appending the data\n",
        "\n",
        "new_record=[[50, 9, 4, 1, 0, 0, 40, 0]]"
      ],
      "metadata": {
        "id": "VM5aeF1XlR1D"
      },
      "execution_count": 3,
      "outputs": []
    },
    {
      "cell_type": "code",
      "source": [
        "# Step 3\n",
        "\n",
        "# print(census)\n",
        "\n",
        "age = np.array(data[:,0])\n",
        "\n",
        "max_age = age.max()\n",
        "\n",
        "min_age = age.min()\n",
        "\n",
        "age_mean = age.mean()\n",
        "\n",
        "age_std = np.std(age)"
      ],
      "metadata": {
        "id": "e6kdIbO0lT7n"
      },
      "execution_count": 4,
      "outputs": []
    },
    {
      "cell_type": "code",
      "source": [
        "#Step 4\n",
        "\n",
        "race = np.array(data[:,2])\n",
        "\n",
        "\n",
        "race_0 = race[race == 0]\n",
        "race_1 = race[race == 1]\n",
        "race_2 = race[race == 2]\n",
        "race_3 = race[race == 3]\n",
        "race_4 = race[race == 4]\n",
        "\n",
        "len_0 = len(race_0)\n",
        "len_1 = len(race_1)\n",
        "len_2 = len(race_2)\n",
        "len_3 = len(race_3)\n",
        "len_4 = len(race_4)\n",
        "\n",
        "print(\"\\n Population of race 0 :- \",len_0)\n",
        "print(\"\\n Population of race 1 :- \",len_1)\n",
        "print(\"\\n Population of race 2 :- \",len_2)\n",
        "print(\"\\n Population of race 3 :- \",len_3)\n",
        "print(\"\\n Population of race 4 :- \",len_4)\n",
        "\n",
        "minority_race = 3\n"
      ],
      "metadata": {
        "colab": {
          "base_uri": "https://localhost:8080/"
        },
        "id": "r-xrFAWilZQj",
        "outputId": "e78d15bc-fce9-42d3-e5e7-30219cbc8d17"
      },
      "execution_count": 5,
      "outputs": [
        {
          "output_type": "stream",
          "name": "stdout",
          "text": [
            "\n",
            " Population of race 0 :-  10\n",
            "\n",
            " Population of race 1 :-  27\n",
            "\n",
            " Population of race 2 :-  110\n",
            "\n",
            " Population of race 3 :-  6\n",
            "\n",
            " Population of race 4 :-  847\n"
          ]
        }
      ]
    },
    {
      "cell_type": "code",
      "source": [
        "#Step 5\n",
        "\n",
        "senior_citizens = data[age > 60]\n",
        "\n",
        "# print(senior_citizens)\n",
        "working_hours_sum = senior_citizens[:,6].mean()\n",
        "\n",
        "# print(working_hours_sum)\n",
        "\n",
        "senior_citizens_len = len(senior_citizens)\n",
        "\n",
        "# print(senior_citizens_len)\n",
        "\n",
        "avg_working_hours = senior_citizens[:,6].mean()\n",
        "\n",
        "print(\"\\n Average working hours is:- {}. Hence the govt. policy is not followed. \\n\".format(avg_working_hours))"
      ],
      "metadata": {
        "colab": {
          "base_uri": "https://localhost:8080/"
        },
        "id": "FXlBSxMFllnO",
        "outputId": "f0218717-19da-4317-9691-f7a0b2cf0c08"
      },
      "execution_count": 6,
      "outputs": [
        {
          "output_type": "stream",
          "name": "stdout",
          "text": [
            "\n",
            " Average working hours is:- 31.42622950819672. Hence the govt. policy is not followed. \n",
            "\n"
          ]
        }
      ]
    },
    {
      "cell_type": "code",
      "source": [
        "\n",
        "\n",
        "# Step 6\n",
        "education_num = np.array(data[:,1])\n",
        "\n",
        "high = data[education_num>10]\n",
        "low = data[education_num<10]\n",
        "\n",
        "\n",
        "income = data[:,7]\n",
        "\n",
        "avg_pay_high = high[:,7].mean()\n",
        "avg_pay_low = low[:,7].mean()\n",
        "print(\"\\n Mean avg pay for highly educated :- \",avg_pay_high)\n",
        "print(\"\\n Mean avg pay for low educated :- \",avg_pay_low)\n"
      ],
      "metadata": {
        "colab": {
          "base_uri": "https://localhost:8080/"
        },
        "id": "B-0mw4imU58R",
        "outputId": "a11932a4-8521-4926-8ca2-190a65b5cf92"
      },
      "execution_count": 7,
      "outputs": [
        {
          "output_type": "stream",
          "name": "stdout",
          "text": [
            "\n",
            " Mean avg pay for highly educated :-  0.42813455657492355\n",
            "\n",
            " Mean avg pay for low educated :-  0.12723214285714285\n"
          ]
        }
      ]
    }
  ]
}